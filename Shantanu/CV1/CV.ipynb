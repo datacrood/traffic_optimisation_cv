{
 "cells": [
  {
   "cell_type": "code",
   "execution_count": 1,
   "metadata": {},
   "outputs": [],
   "source": [
    "# ! pip install ultralytics"
   ]
  },
  {
   "cell_type": "code",
   "execution_count": 2,
   "metadata": {},
   "outputs": [
    {
     "name": "stderr",
     "output_type": "stream",
     "text": [
      "2024-01-31 19:43:44.104 Python[74304:2625987] WARNING: Secure coding is automatically enabled for restorable state! However, not on all supported macOS versions of this application. Opt-in to secure coding explicitly by implementing NSApplicationDelegate.applicationSupportsSecureRestorableState:.\n"
     ]
    }
   ],
   "source": [
    "import cv2\n",
    "\n",
    "cap = cv2.VideoCapture(\"/Users/punit/Downloads/video (1080p).mp4\")\n",
    "\n",
    "while True:\n",
    "    ret, frame = cap.read()\n",
    "    if not ret:\n",
    "        break\n",
    "    cv2.imshow(\"Img\", frame)\n",
    "    key = cv2.waitKey(1)\n",
    "    if key == 27:\n",
    "        break\n",
    "\n",
    "cap.release()\n",
    "cv2.destroyAllWindows()"
   ]
  },
  {
   "cell_type": "code",
   "execution_count": 3,
   "metadata": {},
   "outputs": [
    {
     "name": "stdout",
     "output_type": "stream",
     "text": [
      "WARNING ⚠️ 'source' is missing. Using 'source=/Users/punit/Library/Python/3.9/lib/python/site-packages/ultralytics/assets'.\n",
      "\n",
      "image 1/2 /Users/punit/Library/Python/3.9/lib/python/site-packages/ultralytics/assets/bus.jpg: 640x480 4 persons, 1 bus, 254.1ms\n",
      "image 2/2 /Users/punit/Library/Python/3.9/lib/python/site-packages/ultralytics/assets/zidane.jpg: 384x640 3 persons, 2 ties, 186.5ms\n",
      "Speed: 2.2ms preprocess, 220.3ms inference, 0.9ms postprocess per image at shape (1, 3, 384, 640)\n",
      "tensor([[1.3726e+00, 2.3067e+02, 8.0466e+02, 7.3793e+02],\n",
      "        [5.0243e+01, 3.9954e+02, 2.4764e+02, 9.0488e+02],\n",
      "        [6.6878e+02, 3.9496e+02, 8.0970e+02, 8.8035e+02],\n",
      "        [2.2308e+02, 4.1147e+02, 3.4473e+02, 8.6020e+02],\n",
      "        [2.9315e-01, 5.4907e+02, 7.8452e+01, 8.7174e+02]])\n"
     ]
    }
   ],
   "source": [
    "from ultralytics import YOLO\n",
    "import numpy as np\n",
    "\n",
    "cap = cv2.VideoCapture(\"/Users/punit/Downloads/video (1080p).mp4\")\n",
    "\n",
    "model = YOLO(\"/Users/punit/Downloads/yolov8m.pt\")\n",
    "\n",
    "results = model(frame)\n",
    "result = results[0]\n",
    "bboxes = result.boxes.xyxy\n",
    "print(bboxes)\n"
   ]
  },
  {
   "cell_type": "code",
   "execution_count": 4,
   "metadata": {},
   "outputs": [],
   "source": [
    "bboxes = np.array(result.boxes.xyxy.cpu(), dtype=\"int\")\n",
    "classes = np.array(result.boxes.cls.cpu(), dtype=\"int\")"
   ]
  },
  {
   "cell_type": "code",
   "execution_count": 5,
   "metadata": {},
   "outputs": [],
   "source": [
    "for cls, bbox in zip(classes, bboxes):\n",
    "    (x, y, x2, y2) = bbox\n",
    "    cv2.rectangle(frame, (x, y), (x2, y2), (0, 0, 225), 2)\n",
    "    cv2.putText(frame, str(cls), (x, y - 5), cv2.FONT_HERSHEY_PLAIN, 2, (0, 0, 225), 2)"
   ]
  },
  {
   "cell_type": "code",
   "execution_count": 6,
   "metadata": {},
   "outputs": [
    {
     "name": "stdout",
     "output_type": "stream",
     "text": [
      "True\n"
     ]
    }
   ],
   "source": [
    "import torch\n",
    "print(torch.backends.mps.is_available())"
   ]
  },
  {
   "cell_type": "code",
   "execution_count": 7,
   "metadata": {},
   "outputs": [
    {
     "name": "stdout",
     "output_type": "stream",
     "text": [
      "WARNING ⚠️ 'source' is missing. Using 'source=/Users/punit/Library/Python/3.9/lib/python/site-packages/ultralytics/assets'.\n",
      "\n",
      "image 1/2 /Users/punit/Library/Python/3.9/lib/python/site-packages/ultralytics/assets/bus.jpg: 640x480 4 persons, 1 bus, 214.5ms\n",
      "image 2/2 /Users/punit/Library/Python/3.9/lib/python/site-packages/ultralytics/assets/zidane.jpg: 384x640 3 persons, 2 ties, 158.0ms\n",
      "Speed: 1.4ms preprocess, 186.2ms inference, 0.4ms postprocess per image at shape (1, 3, 384, 640)\n"
     ]
    },
    {
     "ename": "",
     "evalue": "",
     "output_type": "error",
     "traceback": [
      "\u001b[1;31mThe Kernel crashed while executing code in the the current cell or a previous cell. Please review the code in the cell(s) to identify a possible cause of the failure. Click <a href='https://aka.ms/vscodeJupyterKernelCrash'>here</a> for more info. View Jupyter <a href='command:jupyter.viewOutput'>log</a> for further details."
     ]
    }
   ],
   "source": [
    "results = model(frame, device=\"mps\")"
   ]
  },
  {
   "cell_type": "code",
   "execution_count": null,
   "metadata": {},
   "outputs": [],
   "source": []
  }
 ],
 "metadata": {
  "kernelspec": {
   "display_name": "Python 3",
   "language": "python",
   "name": "python3"
  },
  "language_info": {
   "codemirror_mode": {
    "name": "ipython",
    "version": 3
   },
   "file_extension": ".py",
   "mimetype": "text/x-python",
   "name": "python",
   "nbconvert_exporter": "python",
   "pygments_lexer": "ipython3",
   "version": "3.9.6"
  },
  "orig_nbformat": 4
 },
 "nbformat": 4,
 "nbformat_minor": 2
}
