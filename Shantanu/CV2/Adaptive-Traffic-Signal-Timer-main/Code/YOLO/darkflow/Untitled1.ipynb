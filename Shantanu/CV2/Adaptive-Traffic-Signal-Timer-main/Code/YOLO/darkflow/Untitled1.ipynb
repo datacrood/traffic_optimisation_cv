{
 "cells": [
  {
   "cell_type": "code",
   "execution_count": 1,
   "id": "a259c290",
   "metadata": {},
   "outputs": [
    {
     "name": "stdout",
     "output_type": "stream",
     "text": [
      "Python 3.9.13\r\n"
     ]
    }
   ],
   "source": [
    "!python --version"
   ]
  },
  {
   "cell_type": "code",
   "execution_count": null,
   "id": "a6f120b0",
   "metadata": {},
   "outputs": [
    {
     "name": "stdout",
     "output_type": "stream",
     "text": [
      "/Users/punit/Desktop/Misc/traffic_optimisation_cv/Shantanu/CV2/Adaptive-Traffic-Signal-Timer-main/Code/YOLO/darkflow/setup.py:6: DeprecationWarning: the imp module is deprecated in favour of importlib; see the module's documentation for alternative uses\n",
      "  import imp\n",
      "running build_ext\n",
      "building 'darkflow.cython_utils.nms' extension\n",
      "clang -Wno-unused-result -Wsign-compare -Wunreachable-code -DNDEBUG -fwrapv -O2 -Wall -fPIC -O2 -isystem /Users/punit/opt/anaconda3/include -arch x86_64 -I/Users/punit/opt/anaconda3/include -fPIC -O2 -isystem /Users/punit/opt/anaconda3/include -arch x86_64 -I/Users/punit/opt/anaconda3/lib/python3.9/site-packages/numpy/core/include -I/Users/punit/opt/anaconda3/include/python3.9 -c darkflow/cython_utils/nms.c -o build/temp.macosx-10.9-x86_64-cpython-39/darkflow/cython_utils/nms.o\n",
      "In file included from darkflow/cython_utils/nms.c:635:\n",
      "In file included from /Users/punit/opt/anaconda3/lib/python3.9/site-packages/numpy/core/include/numpy/arrayobject.h:4:\n",
      "In file included from /Users/punit/opt/anaconda3/lib/python3.9/site-packages/numpy/core/include/numpy/ndarrayobject.h:12:\n",
      "In file included from /Users/punit/opt/anaconda3/lib/python3.9/site-packages/numpy/core/include/numpy/ndarraytypes.h:1969:\n",
      "\u001b[1m/Users/punit/opt/anaconda3/lib/python3.9/site-packages/numpy/core/include/numpy/npy_1_7_deprecated_api.h:17:2: \u001b[0m\u001b[0;1;35mwarning: \u001b[0m\u001b[1m\"Using deprecated NumPy API, disable it with \"          \"#define NPY_NO_DEPRECATED_API NPY_1_7_API_VERSION\" [-W#warnings]\u001b[0m\n",
      "#warning \"Using deprecated NumPy API, disable it with \" \\\n",
      "\u001b[0;1;32m ^\n",
      "\u001b[0m\u001b[1mdarkflow/cython_utils/nms.c:20776:21: \u001b[0m\u001b[0;1;35mwarning: \u001b[0m\u001b[1mfallthrough annotation in unreachable code [-Wunreachable-code-fallthrough]\u001b[0m\n",
      "                    CYTHON_FALLTHROUGH;\n",
      "\u001b[0;1;32m                    ^\n",
      "\u001b[0m\u001b[1mdarkflow/cython_utils/nms.c:299:34: \u001b[0m\u001b[0;1;30mnote: \u001b[0mexpanded from macro 'CYTHON_FALLTHROUGH'\u001b[0m\n",
      "      #define CYTHON_FALLTHROUGH __attribute__((fallthrough))\n",
      "\u001b[0;1;32m                                 ^\n",
      "\u001b[0m\u001b[1mdarkflow/cython_utils/nms.c:20787:21: \u001b[0m\u001b[0;1;35mwarning: \u001b[0m\u001b[1mfallthrough annotation in unreachable code [-Wunreachable-code-fallthrough]\u001b[0m\n",
      "                    CYTHON_FALLTHROUGH;\n",
      "\u001b[0;1;32m                    ^\n",
      "\u001b[0m\u001b[1mdarkflow/cython_utils/nms.c:299:34: \u001b[0m\u001b[0;1;30mnote: \u001b[0mexpanded from macro 'CYTHON_FALLTHROUGH'\u001b[0m\n",
      "      #define CYTHON_FALLTHROUGH __attribute__((fallthrough))\n",
      "\u001b[0;1;32m                                 ^\n",
      "\u001b[0m3 warnings generated.\n",
      "clang -bundle -undefined dynamic_lookup -Wl,-rpath,/Users/punit/opt/anaconda3/lib -L/Users/punit/opt/anaconda3/lib -L/Users/punit/opt/anaconda3/lib -Wl,-rpath,/Users/punit/opt/anaconda3/lib -L/Users/punit/opt/anaconda3/lib build/temp.macosx-10.9-x86_64-cpython-39/darkflow/cython_utils/nms.o -lm -o build/lib.macosx-10.9-x86_64-cpython-39/darkflow/cython_utils/nms.cpython-39-darwin.so\n",
      "ld: warning: duplicate -rpath '/Users/punit/opt/anaconda3/lib' ignored\n",
      "building 'darkflow.cython_utils.cy_yolo2_findboxes' extension\n",
      "clang -Wno-unused-result -Wsign-compare -Wunreachable-code -DNDEBUG -fwrapv -O2 -Wall -fPIC -O2 -isystem /Users/punit/opt/anaconda3/include -arch x86_64 -I/Users/punit/opt/anaconda3/include -fPIC -O2 -isystem /Users/punit/opt/anaconda3/include -arch x86_64 -I/Users/punit/opt/anaconda3/lib/python3.9/site-packages/numpy/core/include -I/Users/punit/opt/anaconda3/include/python3.9 -c darkflow/cython_utils/cy_yolo2_findboxes.c -o build/temp.macosx-10.9-x86_64-cpython-39/darkflow/cython_utils/cy_yolo2_findboxes.o\n",
      "In file included from darkflow/cython_utils/cy_yolo2_findboxes.c:635:\n",
      "In file included from /Users/punit/opt/anaconda3/lib/python3.9/site-packages/numpy/core/include/numpy/arrayobject.h:4:\n",
      "In file included from /Users/punit/opt/anaconda3/lib/python3.9/site-packages/numpy/core/include/numpy/ndarrayobject.h:12:\n",
      "In file included from /Users/punit/opt/anaconda3/lib/python3.9/site-packages/numpy/core/include/numpy/ndarraytypes.h:1969:\n",
      "\u001b[1m/Users/punit/opt/anaconda3/lib/python3.9/site-packages/numpy/core/include/numpy/npy_1_7_deprecated_api.h:17:2: \u001b[0m\u001b[0;1;35mwarning: \u001b[0m\u001b[1m\"Using deprecated NumPy API, disable it with \"          \"#define NPY_NO_DEPRECATED_API NPY_1_7_API_VERSION\" [-W#warnings]\u001b[0m\n",
      "#warning \"Using deprecated NumPy API, disable it with \" \\\n",
      "\u001b[0;1;32m ^\n",
      "\u001b[0m\u001b[1mdarkflow/cython_utils/cy_yolo2_findboxes.c:21858:21: \u001b[0m\u001b[0;1;35mwarning: \u001b[0m\u001b[1mfallthrough annotation in unreachable code [-Wunreachable-code-fallthrough]\u001b[0m\n",
      "                    CYTHON_FALLTHROUGH;\n",
      "\u001b[0;1;32m                    ^\n",
      "\u001b[0m\u001b[1mdarkflow/cython_utils/cy_yolo2_findboxes.c:299:34: \u001b[0m\u001b[0;1;30mnote: \u001b[0mexpanded from macro 'CYTHON_FALLTHROUGH'\u001b[0m\n",
      "      #define CYTHON_FALLTHROUGH __attribute__((fallthrough))\n",
      "\u001b[0;1;32m                                 ^\n",
      "\u001b[0m\u001b[1mdarkflow/cython_utils/cy_yolo2_findboxes.c:21869:21: \u001b[0m\u001b[0;1;35mwarning: \u001b[0m\u001b[1mfallthrough annotation in unreachable code [-Wunreachable-code-fallthrough]\u001b[0m\n",
      "                    CYTHON_FALLTHROUGH;\n",
      "\u001b[0;1;32m                    ^\n",
      "\u001b[0m\u001b[1mdarkflow/cython_utils/cy_yolo2_findboxes.c:299:34: \u001b[0m\u001b[0;1;30mnote: \u001b[0mexpanded from macro 'CYTHON_FALLTHROUGH'\u001b[0m\n",
      "      #define CYTHON_FALLTHROUGH __attribute__((fallthrough))\n",
      "\u001b[0;1;32m                                 ^\n",
      "\u001b[0m"
     ]
    }
   ],
   "source": [
    "!python setup.py build_ext --inplace"
   ]
  },
  {
   "cell_type": "code",
   "execution_count": null,
   "id": "0ca72cae",
   "metadata": {},
   "outputs": [],
   "source": []
  }
 ],
 "metadata": {
  "kernelspec": {
   "display_name": "test",
   "language": "python",
   "name": "test"
  },
  "language_info": {
   "codemirror_mode": {
    "name": "ipython",
    "version": 3
   },
   "file_extension": ".py",
   "mimetype": "text/x-python",
   "name": "python",
   "nbconvert_exporter": "python",
   "pygments_lexer": "ipython3",
   "version": "3.7.9"
  }
 },
 "nbformat": 4,
 "nbformat_minor": 5
}
