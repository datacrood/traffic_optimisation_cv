{
 "cells": [
  {
   "cell_type": "code",
   "execution_count": 1,
   "id": "6a5e0774",
   "metadata": {},
   "outputs": [
    {
     "name": "stdout",
     "output_type": "stream",
     "text": [
      "pygame 2.0.1 (SDL 2.0.14, Python 3.7.9)\n",
      "Hello from the pygame community. https://www.pygame.org/contribute.html\n",
      " GREEN TS 1 -> r: 0  y: 5  g: 20\n",
      "   RED TS 2 -> r: 25  y: 5  g: 20\n",
      "   RED TS 3 -> r: 150  y: 5  g: 20\n",
      "   RED TS 4 -> r: 150  y: 5  g: 20\n",
      "\n",
      " GREEN TS 1 -> r: 0  y: 5  g: 19\n",
      "   RED TS 2 -> r: 24  y: 5  g: 20\n",
      "   RED TS 3 -> r: 149  y: 5  g: 20\n",
      "   RED TS 4 -> r: 149  y: 5  g: 20\n",
      "\n",
      " GREEN TS 1 -> r: 0  y: 5  g: 18\n",
      "   RED TS 2 -> r: 23  y: 5  g: 20\n",
      "   RED TS 3 -> r: 148  y: 5  g: 20\n",
      "   RED TS 4 -> r: 148  y: 5  g: 20\n",
      "\n",
      " GREEN TS 1 -> r: 0  y: 5  g: 17\n",
      "   RED TS 2 -> r: 22  y: 5  g: 20\n",
      "   RED TS 3 -> r: 147  y: 5  g: 20\n",
      "   RED TS 4 -> r: 147  y: 5  g: 20\n",
      "\n",
      " GREEN TS 1 -> r: 0  y: 5  g: 16\n",
      "   RED TS 2 -> r: 21  y: 5  g: 20\n",
      "   RED TS 3 -> r: 146  y: 5  g: 20\n",
      "   RED TS 4 -> r: 146  y: 5  g: 20\n",
      "\n",
      " GREEN TS 1 -> r: 0  y: 5  g: 15\n",
      "   RED TS 2 -> r: 20  y: 5  g: 20\n",
      "   RED TS 3 -> r: 145  y: 5  g: 20\n",
      "   RED TS 4 -> r: 145  y: 5  g: 20\n",
      "\n",
      " GREEN TS 1 -> r: 0  y: 5  g: 14\n",
      "   RED TS 2 -> r: 19  y: 5  g: 20\n",
      "   RED TS 3 -> r: 144  y: 5  g: 20\n",
      "   RED TS 4 -> r: 144  y: 5  g: 20\n",
      "\n",
      " GREEN TS 1 -> r: 0  y: 5  g: 13\n",
      "   RED TS 2 -> r: 18  y: 5  g: 20\n",
      "   RED TS 3 -> r: 143  y: 5  g: 20\n",
      "   RED TS 4 -> r: 143  y: 5  g: 20\n",
      "\n",
      " GREEN TS 1 -> r: 0  y: 5  g: 12\n",
      "   RED TS 2 -> r: 17  y: 5  g: 20\n",
      "   RED TS 3 -> r: 142  y: 5  g: 20\n",
      "   RED TS 4 -> r: 142  y: 5  g: 20\n",
      "\n",
      " GREEN TS 1 -> r: 0  y: 5  g: 11\n",
      "   RED TS 2 -> r: 16  y: 5  g: 20\n",
      "   RED TS 3 -> r: 141  y: 5  g: 20\n",
      "   RED TS 4 -> r: 141  y: 5  g: 20\n",
      "\n",
      " GREEN TS 1 -> r: 0  y: 5  g: 10\n",
      "   RED TS 2 -> r: 15  y: 5  g: 20\n",
      "   RED TS 3 -> r: 140  y: 5  g: 20\n",
      "   RED TS 4 -> r: 140  y: 5  g: 20\n",
      "\n",
      " GREEN TS 1 -> r: 0  y: 5  g: 9\n",
      "   RED TS 2 -> r: 14  y: 5  g: 20\n",
      "   RED TS 3 -> r: 139  y: 5  g: 20\n",
      "   RED TS 4 -> r: 139  y: 5  g: 20\n",
      "\n",
      " GREEN TS 1 -> r: 0  y: 5  g: 8\n",
      "   RED TS 2 -> r: 13  y: 5  g: 20\n",
      "   RED TS 3 -> r: 138  y: 5  g: 20\n",
      "   RED TS 4 -> r: 138  y: 5  g: 20\n",
      "\n",
      " GREEN TS 1 -> r: 0  y: 5  g: 7\n",
      "   RED TS 2 -> r: 12  y: 5  g: 20\n",
      "   RED TS 3 -> r: 137  y: 5  g: 20\n",
      "   RED TS 4 -> r: 137  y: 5  g: 20\n",
      "\n",
      " GREEN TS 1 -> r: 0  y: 5  g: 6\n",
      "   RED TS 2 -> r: 11  y: 5  g: 20\n",
      "   RED TS 3 -> r: 136  y: 5  g: 20\n",
      "   RED TS 4 -> r: 136  y: 5  g: 20\n",
      "\n",
      " GREEN TS 1 -> r: 0  y: 5  g: 5\n",
      "   RED TS 2 -> r: 10  y: 5  g: 20\n",
      "   RED TS 3 -> r: 135  y: 5  g: 20\n",
      "   RED TS 4 -> r: 135  y: 5  g: 20\n",
      "\n",
      " GREEN TS 1 -> r: 0  y: 5  g: 4\n",
      "   RED TS 2 -> r: 9  y: 5  g: 20\n",
      "   RED TS 3 -> r: 134  y: 5  g: 20\n",
      "   RED TS 4 -> r: 134  y: 5  g: 20\n",
      "\n",
      " GREEN TS 1 -> r: 0  y: 5  g: 3\n",
      "   RED TS 2 -> r: 8  y: 5  g: 20\n",
      "   RED TS 3 -> r: 133  y: 5  g: 20\n",
      "   RED TS 4 -> r: 133  y: 5  g: 20\n",
      "\n",
      " GREEN TS 1 -> r: 0  y: 5  g: 2\n",
      "   RED TS 2 -> r: 7  y: 5  g: 20\n",
      "   RED TS 3 -> r: 132  y: 5  g: 20\n",
      "   RED TS 4 -> r: 132  y: 5  g: 20\n",
      "\n",
      " GREEN TS 1 -> r: 0  y: 5  g: 1\n",
      "   RED TS 2 -> r: 6  y: 5  g: 20\n",
      "   RED TS 3 -> r: 131  y: 5  g: 20\n",
      "   RED TS 4 -> r: 131  y: 5  g: 20\n",
      "\n"
     ]
    }
   ],
   "source": [
    "%run simulation.py"
   ]
  },
  {
   "cell_type": "code",
   "execution_count": 1,
   "id": "73544be5",
   "metadata": {},
   "outputs": [
    {
     "name": "stdout",
     "output_type": "stream",
     "text": [
      "/Users/punit/Desktop/Misc/traffic_optimisation_cv/Shantanu/CV2/Adaptive-Traffic-Signal-Timer-main/Code/YOLO/darkflow/setup.py:6: DeprecationWarning: the imp module is deprecated in favour of importlib; see the module's documentation for alternative uses\n",
      "  import imp\n",
      "running build_ext\n",
      "copying build/lib.macosx-10.9-x86_64-cpython-39/darkflow/cython_utils/nms.cpython-39-darwin.so -> darkflow/cython_utils\n",
      "copying build/lib.macosx-10.9-x86_64-cpython-39/darkflow/cython_utils/cy_yolo2_findboxes.cpython-39-darwin.so -> darkflow/cython_utils\n",
      "copying build/lib.macosx-10.9-x86_64-cpython-39/darkflow/cython_utils/cy_yolo_findboxes.cpython-39-darwin.so -> darkflow/cython_utils\n"
     ]
    }
   ],
   "source": [
    "!python setup.py build_ext --inplace"
   ]
  },
  {
   "cell_type": "code",
   "execution_count": null,
   "id": "33af1734",
   "metadata": {},
   "outputs": [],
   "source": []
  },
  {
   "cell_type": "code",
   "execution_count": null,
   "id": "19dc34f3",
   "metadata": {},
   "outputs": [],
   "source": []
  }
 ],
 "metadata": {
  "kernelspec": {
   "display_name": "test",
   "language": "python",
   "name": "test"
  },
  "language_info": {
   "codemirror_mode": {
    "name": "ipython",
    "version": 3
   },
   "file_extension": ".py",
   "mimetype": "text/x-python",
   "name": "python",
   "nbconvert_exporter": "python",
   "pygments_lexer": "ipython3",
   "version": "3.7.9"
  }
 },
 "nbformat": 4,
 "nbformat_minor": 5
}
